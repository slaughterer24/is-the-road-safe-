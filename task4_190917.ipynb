{
  "nbformat": 4,
  "nbformat_minor": 0,
  "metadata": {
    "colab": {
      "name": "task4_190917.ipynb",
      "provenance": []
    },
    "kernelspec": {
      "name": "python3",
      "display_name": "Python 3"
    },
    "language_info": {
      "name": "python"
    }
  },
  "cells": [
    {
      "cell_type": "code",
      "execution_count": 1,
      "metadata": {
        "id": "zzU2m3V-K029"
      },
      "outputs": [],
      "source": [
        "import tensorflow as tf\n",
        "import keras\n",
        "from keras.models import Sequential\n",
        "import tensorflow as tf  \n",
        "import pandas as pd\n",
        "import numpy as np\n",
        "import matplotlib.pyplot as plt\n",
        "import cv2 \n",
        "from PIL import Image\n",
        "import keras\n",
        "import glob\n",
        "from tensorflow.keras.layers import Conv2D\n",
        "from  tensorflow.nn import max_pool2d\n",
        "from tensorflow.nn import max_pool2d\n",
        "from keras.layers import Dense, Dropout, Flatten, Conv2D, MaxPool2D\n",
        "from tensorflow.keras.layers import BatchNormalization\n",
        "from keras.layers import Flatten,Dense\n"
      ]
    },
    {
      "cell_type": "code",
      "source": [
        "\n",
        "model=Sequential()\n",
        "model1=tf.keras.applications.ResNet50(\n",
        "    include_top=False, \n",
        "    weights=\"imagenet\",\n",
        "    input_tensor=None,\n",
        "    input_shape=(32,32,3), \n",
        "    pooling='avg', \n",
        "    classes = 10 \n",
        "  \n",
        ")\n",
        "from keras.layers import Flatten,Dense\n",
        "model.add(model1)\n",
        "for layer in model1.layers:\n",
        "    layer.trainable=False\n"
      ],
      "metadata": {
        "id": "LKatPKiBLZCn"
      },
      "execution_count": 2,
      "outputs": []
    },
    {
      "cell_type": "code",
      "source": [
        "model.add(Flatten()) # this converts matrix itno single array \n",
        "model.add(Dense(512,activation='relu')) #Dense is the only actual network layer in that model it  feeds all outputs from the previous layer to all its neurons, each neuron providing one output to the next layer.\n",
        "model.add(Dense(10,activation='softmax')) # its used as an activation function in a neural network model. Specifically, when  the network is configured to output N values, one for each class in the classification task.\n",
        "model.summary()"
      ],
      "metadata": {
        "colab": {
          "base_uri": "https://localhost:8080/"
        },
        "id": "C9xEpklAMbjP",
        "outputId": "bbe83b0e-30b2-412e-e162-8004b39d5182"
      },
      "execution_count": 3,
      "outputs": [
        {
          "output_type": "stream",
          "name": "stdout",
          "text": [
            "Model: \"sequential\"\n",
            "_________________________________________________________________\n",
            " Layer (type)                Output Shape              Param #   \n",
            "=================================================================\n",
            " resnet50 (Functional)       (None, 2048)              23587712  \n",
            "                                                                 \n",
            " flatten (Flatten)           (None, 2048)              0         \n",
            "                                                                 \n",
            " dense (Dense)               (None, 512)               1049088   \n",
            "                                                                 \n",
            " dense_1 (Dense)             (None, 10)                5130      \n",
            "                                                                 \n",
            "=================================================================\n",
            "Total params: 24,641,930\n",
            "Trainable params: 1,054,218\n",
            "Non-trainable params: 23,587,712\n",
            "_________________________________________________________________\n"
          ]
        }
      ]
    },
    {
      "cell_type": "code",
      "source": [
        "fashion_mnist=keras.datasets.fashion_mnist\n",
        "(X_train,Y_train),(X_test,Y_test)=fashion_mnist.load_data()\n"
      ],
      "metadata": {
        "id": "uKxTDqpjNXEw"
      },
      "execution_count": 4,
      "outputs": []
    },
    {
      "cell_type": "code",
      "source": [
        "X_train.shape"
      ],
      "metadata": {
        "colab": {
          "base_uri": "https://localhost:8080/"
        },
        "id": "WdQ73-hzU5xT",
        "outputId": "faad998b-766c-47c9-c7ae-75410ba318cf"
      },
      "execution_count": 5,
      "outputs": [
        {
          "output_type": "execute_result",
          "data": {
            "text/plain": [
              "(60000, 28, 28)"
            ]
          },
          "metadata": {},
          "execution_count": 5
        }
      ]
    },
    {
      "cell_type": "code",
      "source": [
        "from tensorflow import keras\n",
        "from tensorflow.keras import layers\n",
        "\n",
        "X_new = np.zeros((60000, 32, 32, 3), )\n",
        "for i,fi in enumerate(X_train):\n",
        "        img=cv2.resize(fi, (32,32), interpolation = cv2.INTER_AREA)\n",
        "        img= cv2.cvtColor(img,cv2.COLOR_GRAY2RGB) \n",
        "        X_new[i] = img\n",
        "           \n",
        "model.compile(optimizer=keras.optimizers.Adam(learning_rate= 1e-3),\n",
        " loss= 'categorical_crossentropy',\n",
        " metrics=['accuracy'])\n",
        "Y_train = tf.keras.utils.to_categorical(Y_train, 10)\n",
        "Y_test = tf.keras.utils.to_categorical(Y_test, 10)\n"
      ],
      "metadata": {
        "id": "UlJXnTFJNZu8"
      },
      "execution_count": 6,
      "outputs": []
    },
    {
      "cell_type": "code",
      "source": [
        "X_new.shape"
      ],
      "metadata": {
        "colab": {
          "base_uri": "https://localhost:8080/"
        },
        "id": "X46Ac8wsVthl",
        "outputId": "1b94ced8-00d0-4b23-cf13-fff159f13b91"
      },
      "execution_count": 7,
      "outputs": [
        {
          "output_type": "execute_result",
          "data": {
            "text/plain": [
              "(60000, 32, 32, 3)"
            ]
          },
          "metadata": {},
          "execution_count": 7
        }
      ]
    },
    {
      "cell_type": "code",
      "source": [
        "Y_train"
      ],
      "metadata": {
        "colab": {
          "base_uri": "https://localhost:8080/"
        },
        "id": "US9g9hW1V0Ax",
        "outputId": "1cd73bb1-00ac-4f09-ceb5-95680d9b220b"
      },
      "execution_count": 8,
      "outputs": [
        {
          "output_type": "execute_result",
          "data": {
            "text/plain": [
              "array([[0., 0., 0., ..., 0., 0., 1.],\n",
              "       [1., 0., 0., ..., 0., 0., 0.],\n",
              "       [1., 0., 0., ..., 0., 0., 0.],\n",
              "       ...,\n",
              "       [0., 0., 0., ..., 0., 0., 0.],\n",
              "       [1., 0., 0., ..., 0., 0., 0.],\n",
              "       [0., 0., 0., ..., 0., 0., 0.]], dtype=float32)"
            ]
          },
          "metadata": {},
          "execution_count": 8
        }
      ]
    },
    {
      "cell_type": "code",
      "source": [
        "model.fit(X_new,Y_train)"
      ],
      "metadata": {
        "colab": {
          "base_uri": "https://localhost:8080/"
        },
        "id": "Px6KUZPyP2SF",
        "outputId": "9ff5d859-6d55-43be-d76a-43ce3626ef5a"
      },
      "execution_count": 9,
      "outputs": [
        {
          "output_type": "stream",
          "name": "stdout",
          "text": [
            "1875/1875 [==============================] - 277s 146ms/step - loss: 0.5346 - accuracy: 0.8153\n"
          ]
        },
        {
          "output_type": "execute_result",
          "data": {
            "text/plain": [
              "<keras.callbacks.History at 0x7fc3ccfda910>"
            ]
          },
          "metadata": {},
          "execution_count": 9
        }
      ]
    },
    {
      "cell_type": "code",
      "source": [
        "Xp_tester =  np.zeros((10000, 32, 32, 3), )\n",
        " \n",
        "for i,files in enumerate(X_test):\n",
        "        img=cv2.resize(files, (32,32), interpolation = cv2.INTER_AREA)\n",
        "        img= cv2.cvtColor(img,cv2.COLOR_GRAY2RGB) \n",
        "        Xp_tester[i] = img"
      ],
      "metadata": {
        "id": "6YgOi9dfQHH8"
      },
      "execution_count": 10,
      "outputs": []
    },
    {
      "cell_type": "code",
      "source": [
        "results = model.evaluate(Xp_tester, Y_test)\n"
      ],
      "metadata": {
        "colab": {
          "base_uri": "https://localhost:8080/"
        },
        "id": "juu8pfA0VLN7",
        "outputId": "a1e0d5a2-ccc2-49f4-aaff-9e14b90c54f8"
      },
      "execution_count": 11,
      "outputs": [
        {
          "output_type": "stream",
          "name": "stdout",
          "text": [
            "313/313 [==============================] - 44s 136ms/step - loss: 0.4716 - accuracy: 0.8249\n"
          ]
        }
      ]
    }
  ]
}